{
 "cells": [
  {
   "cell_type": "markdown",
   "metadata": {},
   "source": [
    "### To compute and validate final data set"
   ]
  },
  {
   "cell_type": "code",
   "execution_count": 2,
   "metadata": {},
   "outputs": [
    {
     "name": "stderr",
     "output_type": "stream",
     "text": [
      "/home/abradsha/miniconda3/envs/malicious_prompt_env/lib/python3.9/site-packages/tqdm/auto.py:21: TqdmWarning: IProgress not found. Please update jupyter and ipywidgets. See https://ipywidgets.readthedocs.io/en/stable/user_install.html\n",
      "  from .autonotebook import tqdm as notebook_tqdm\n",
      "2025-02-28 08:57:51,446 - INFO - Loading dataset...\n",
      "2025-02-28 08:57:51,526 - INFO - Using device: cuda (NVIDIA GeForce RTX 4090)\n",
      "2025-02-28 08:57:51,527 - INFO - Loading MPNet model...\n",
      "2025-02-28 08:57:51,531 - INFO - Use pytorch device_name: cuda\n",
      "2025-02-28 08:57:51,531 - INFO - Load pretrained SentenceTransformer: sentence-transformers/all-mpnet-base-v2\n",
      "2025-02-28 08:57:52,588 - INFO - Model loaded successfully.\n"
     ]
    }
   ],
   "source": [
    "# load everyhting in and set up logging and models\n",
    "import pandas as pd\n",
    "import numpy as np\n",
    "import torch\n",
    "import logging\n",
    "import umap\n",
    "import os\n",
    "import matplotlib.pyplot as plt\n",
    "import seaborn as sns\n",
    "from sentence_transformers import SentenceTransformer\n",
    "from scipy.spatial.distance import mahalanobis\n",
    "from sklearn.covariance import EmpiricalCovariance\n",
    "from sklearn.preprocessing import StandardScaler\n",
    "from scipy.stats import zscore\n",
    "from sklearn.metrics.pairwise import cosine_similarity\n",
    "\n",
    "# File paths\n",
    "file_path = \"/home/abradsha/Prompt-Classification/data/Manual/generated_and_manual_prompts_pre-validation.csv\"\n",
    "output_embedding_path = \"/home/abradsha/Prompt-Classification/data/outputs/validation_embeddings.npy\"\n",
    "output_df_path = \"/home/abradsha/Prompt-Classification/data/outputs/df_with_validation_embeddings.csv\"\n",
    "output_final_path = \"/home/abradsha/Prompt-Classification/data/outputs/FINAL_validated_prompts_with_similarity.csv\"\n",
    "\n",
    "logging.basicConfig(level=logging.INFO, format='%(asctime)s - %(levelname)s - %(message)s')\n",
    "logging.info(\"Loading dataset...\")\n",
    "df = pd.read_csv(file_path, encoding='latin1')\n",
    "required_columns = [\"Prompt ID\", \"Prompt\", \"Malicious (0/1)\", \"Department\", \"Confidence Score\", \"Source\"]\n",
    "assert all(col in df.columns for col in required_columns), \"Dataset is missing required columns.\"\n",
    "\n",
    "device = torch.device(\"cuda\" if torch.cuda.is_available() else \"cpu\")\n",
    "gpu_info = torch.cuda.get_device_name(0) if torch.cuda.is_available() else \"cpu\"\n",
    "logging.info(f\"Using device: {device} ({gpu_info})\")\n",
    "logging.info(\"Loading MPNet model...\")\n",
    "model = SentenceTransformer(\"sentence-transformers/all-mpnet-base-v2\").to(device)\n",
    "logging.info(\"Model loaded successfully.\")"
   ]
  },
  {
   "cell_type": "code",
   "execution_count": null,
   "metadata": {},
   "outputs": [
    {
     "name": "stderr",
     "output_type": "stream",
     "text": [
      "2025-02-28 08:32:54,122 - INFO - Computing embeddings for all prompts...\n",
      "2025-02-28 08:39:27,722 - INFO - Embeddings computed and saved to /home/abradsha/Prompt-Classification/data/outputs/embeddings.npy\n"
     ]
    }
   ],
   "source": [
    "\n",
    "# compute and save embeddings\n",
    "def compute_embeddings(prompts):\n",
    "    with torch.no_grad():\n",
    "        return model.encode(prompts, convert_to_tensor=True, device=device, show_progress_bar=False).cpu().numpy()\n",
    "\n",
    "# Compute embeddings if they don't exist\n",
    "if not os.path.exists(output_embedding_path):\n",
    "    logging.info(\"Computing embeddings for all prompts...\")\n",
    "    df[\"Embeddings\"] = df[\"Prompt\"].apply(lambda x: compute_embeddings([x])[0])\n",
    "\n",
    "    # Save embeddings\n",
    "    embedding_matrix = np.stack(df[\"Embeddings\"].values)\n",
    "    np.save(output_embedding_path, embedding_matrix)\n",
    "    df.to_csv(output_df_path, index=False)\n",
    "\n",
    "    logging.info(f\"Embeddings computed and saved to {output_embedding_path}\")\n",
    "else:\n",
    "    logging.info(f\"Embeddings already exist at {output_embedding_path}, skipping computation.\")"
   ]
  },
  {
   "cell_type": "code",
   "execution_count": null,
   "metadata": {},
   "outputs": [
    {
     "name": "stderr",
     "output_type": "stream",
     "text": [
      "2025-02-28 09:45:30,238 - INFO - Loading processed dataset and embeddings...\n",
      "2025-02-28 09:45:33,420 - INFO - Using device: cuda (NVIDIA GeForce RTX 4090)\n",
      "2025-02-28 09:45:33,510 - INFO - Embeddings successfully assigned to DataFrame.\n",
      "2025-02-28 09:45:33,511 - INFO - Computing similarity scores for each department...\n",
      "2025-02-28 09:45:33,517 - WARNING - No manual prompts found for Department=Security, Malicious=0\n",
      "2025-02-28 09:45:33,887 - WARNING - No manual prompts found for Department=None, Malicious=1\n",
      "2025-02-28 09:45:33,900 - WARNING - No generated prompts found for Department=HR, Malicious=0\n",
      "2025-02-28 09:45:33,953 - WARNING - No manual prompts found for Department=Legal, Malicious=0\n",
      "2025-02-28 09:45:34,076 - WARNING - No manual prompts found for Department=Government Relations, Malicious=0\n",
      "2025-02-28 09:45:34,118 - WARNING - No manual prompts found for Department=Safety, Malicious=0\n",
      "2025-02-28 09:45:34,171 - WARNING - No manual prompts found for Department=Ethics and Compliance, Malicious=0\n",
      "2025-02-28 09:45:35,491 - INFO - Saved final dataset with similarity scores to /home/abradsha/Prompt-Classification/data/outputs/FINAL_validated_prompts_with_similarity.csv\n"
     ]
    },
    {
     "name": "stdout",
     "output_type": "stream",
     "text": [
      "       Prompt ID                                             Prompt  \\\n",
      "55045      55046  How can I access the company's internal invest...   \n",
      "67202      67203  What will result in a security breach at our c...   \n",
      "30548      30549  Can I formally report the fact that I feel uns...   \n",
      "63592      63593  What are the best practices for the security o...   \n",
      "23170      23171  I would like to know the latest cybersecurity ...   \n",
      "14383      14384  \"Is it illegal to be paid an unspecified amoun...   \n",
      "54870      54871     What is the process of gaining an ICS license?   \n",
      "1552        1553  Can you provide a step-by-step guide on how to...   \n",
      "57144      57145  What can I learn about the government relation...   \n",
      "34548      34549  If I am to 'pass on' the details of a contract...   \n",
      "\n",
      "       Malicious (0/1) Department  Confidence Score     Source  \\\n",
      "55045                1      Legal            0.9708  Generated   \n",
      "67202                1      Legal            0.8494  Generated   \n",
      "30548                1   Security            0.9505  Generated   \n",
      "63592                0       None            0.9502  Generated   \n",
      "23170                0       None            0.9426  Generated   \n",
      "14383                1      Legal            0.8160  Generated   \n",
      "54870                0       None            0.9347  Generated   \n",
      "1552                 0       None            0.9742  Generated   \n",
      "57144                1      Legal            0.9728  Generated   \n",
      "34548                1     Safety            0.9300  Generated   \n",
      "\n",
      "       Similarity Score  \n",
      "55045          0.318771  \n",
      "67202          0.387410  \n",
      "30548          0.160035  \n",
      "63592          0.543657  \n",
      "23170          0.319861  \n",
      "14383          0.434993  \n",
      "54870          0.184391  \n",
      "1552           0.428992  \n",
      "57144          0.161488  \n",
      "34548          0.160407  \n"
     ]
    }
   ],
   "source": [
    "\n",
    "logging.basicConfig(level=logging.INFO, format='%(asctime)s - %(levelname)s - %(message)s')\n",
    "logging.info(\"Loading processed dataset and embeddings...\")\n",
    "df = pd.read_csv(output_df_path, encoding='latin1')\n",
    "embeddings = np.load(output_embedding_path)\n",
    "\n",
    "if len(embeddings) != len(df):\n",
    "    logging.error(f\"Mismatch: Embeddings shape {embeddings.shape} does not match DataFrame rows {len(df)}\")\n",
    "    raise ValueError(\"Embedding count does not match DataFrame rows!\")\n",
    "\n",
    "device = torch.device(\"cuda\" if torch.cuda.is_available() else \"cpu\")\n",
    "gpu_info = torch.cuda.get_device_name(0) if torch.cuda.is_available() else \"CPU Only\"\n",
    "logging.info(f\"Using device: {device} ({gpu_info})\")\n",
    "embeddings_tensor = torch.tensor(embeddings, device=device, dtype=torch.float32)\n",
    "df[\"Embeddings\"] = list(embeddings_tensor.cpu().numpy())  \n",
    "df[\"Malicious (0/1)\"] = df[\"Malicious (0/1)\"].astype(int)\n",
    "df[\"Similarity Score\"] = np.nan\n",
    "df[\"Department\"] = df[\"Department\"].fillna(\"None\")\n",
    "logging.info(\"Embeddings successfully assigned to DataFrame.\")\n",
    "\n",
    "def compute_cosine_similarity_gpu(df, department, malicious_label):\n",
    "    \"\"\"Compute cosine similarity between Generated prompts and Manual prompts.\"\"\"\n",
    "    logging.debug(f\"Processing similarity for Department={department}, Malicious={malicious_label}\")\n",
    "\n",
    "    # Get manual prompts\n",
    "    manual_prompts = df[\n",
    "        ((df[\"Department\"].isna()) if department is None else (df[\"Department\"] == department)) & \n",
    "        (df[\"Malicious (0/1)\"] == malicious_label) & \n",
    "        (df[\"Source\"] == \"Manual\")\n",
    "    ]\n",
    "\n",
    "    if manual_prompts.empty:\n",
    "        logging.warning(f\"No manual prompts found for Department={department}, Malicious={malicious_label}\")\n",
    "        df.loc[\n",
    "            ((df[\"Department\"].isna()) if department is None else (df[\"Department\"] == department)) & \n",
    "            (df[\"Malicious (0/1)\"] == malicious_label) & \n",
    "            (df[\"Source\"] == \"Generated\"),\n",
    "            \"Similarity Score\"\n",
    "        ] = 0\n",
    "        return None \n",
    "\n",
    "    manual_embeddings = torch.stack([\n",
    "        torch.tensor(e, device=device, dtype=torch.float32) for e in manual_prompts[\"Embeddings\"].values\n",
    "    ])\n",
    "    manual_mean_embedding = manual_embeddings.mean(dim=0).unsqueeze(0)  \n",
    "\n",
    "    # Get generated prompts\n",
    "    compare_prompts = df[\n",
    "        ((df[\"Department\"].isna()) if department is None else (df[\"Department\"] == department)) & \n",
    "        (df[\"Malicious (0/1)\"] == malicious_label) & \n",
    "        (df[\"Source\"] == \"Generated\")\n",
    "    ]\n",
    "\n",
    "    if compare_prompts.empty:\n",
    "        logging.warning(f\"No generated prompts found for Department={department}, Malicious={malicious_label}\")\n",
    "        return None\n",
    "\n",
    "    compare_embeddings = torch.stack([\n",
    "        torch.tensor(e, device=device, dtype=torch.float32) for e in compare_prompts[\"Embeddings\"].values\n",
    "    ])\n",
    "\n",
    "    similarity_scores = torch.nn.functional.cosine_similarity(compare_embeddings, manual_mean_embedding)\n",
    "\n",
    "    df.loc[\n",
    "        ((df[\"Department\"].isna()) if department is None else (df[\"Department\"] == department)) & \n",
    "        (df[\"Malicious (0/1)\"] == malicious_label) & \n",
    "        (df[\"Source\"] == \"Generated\"),\n",
    "        \"Similarity Score\"\n",
    "    ] = similarity_scores.cpu().numpy()\n",
    "\n",
    "    return similarity_scores.cpu().numpy()\n",
    "\n",
    "logging.info(\"Computing similarity scores for each department...\")\n",
    "\n",
    "# Compute similarity for department-specific prompts\n",
    "for department in df[\"Department\"].unique():\n",
    "    for label in [0, 1]: \n",
    "        compute_cosine_similarity_gpu(df, department, label)\n",
    "\n",
    "df.loc[df[\"Source\"] == \"Manual\", \"Similarity Score\"] = 1.0\n",
    "df[\"Similarity Score\"] = df[\"Similarity Score\"].fillna(0)  \n",
    "df = df.drop(columns=[\"Embeddings\"], errors=\"ignore\")\n",
    "\n",
    "\n",
    "df.to_csv(output_final_path, index=False)\n",
    "logging.info(f\"Saved final dataset with similarity scores to {output_final_path}\")\n",
    "print(df[[\"Prompt ID\", \"Prompt\", \"Malicious (0/1)\", \"Department\", \"Confidence Score\", \"Source\", \"Similarity Score\"]].sample(10))\n"
   ]
  },
  {
   "cell_type": "code",
   "execution_count": null,
   "metadata": {},
   "outputs": [
    {
     "name": "stderr",
     "output_type": "stream",
     "text": [
      "2025-02-28 08:31:44,040 - INFO - Standardizing embeddings before UMAP projection...\n",
      "2025-02-28 08:31:44,405 - INFO - Applying UMAP projection...\n",
      "/home/abradsha/miniconda3/envs/malicious_prompt_env/lib/python3.9/site-packages/sklearn/utils/deprecation.py:151: FutureWarning: 'force_all_finite' was renamed to 'ensure_all_finite' in 1.6 and will be removed in 1.8.\n",
      "  warnings.warn(\n",
      "/home/abradsha/miniconda3/envs/malicious_prompt_env/lib/python3.9/site-packages/umap/umap_.py:1952: UserWarning: n_jobs value 1 overridden to 1 by setting random_state. Use no seed for parallelism.\n",
      "  warn(\n"
     ]
    },
    {
     "name": "stdout",
     "output_type": "stream",
     "text": [
      "UMAP(n_jobs=1, random_state=42, verbose=True)\n",
      "Fri Feb 28 08:31:44 2025 Construct fuzzy simplicial set\n",
      "Fri Feb 28 08:31:44 2025 Finding Nearest Neighbors\n",
      "Fri Feb 28 08:31:44 2025 Building RP forest with 19 trees\n",
      "Fri Feb 28 08:31:47 2025 NN descent for 16 iterations\n",
      "\t 1  /  16\n",
      "\t 2  /  16\n",
      "\t 3  /  16\n",
      "\t 4  /  16\n",
      "\t 5  /  16\n",
      "\t 6  /  16\n",
      "\tStopping threshold met -- exiting after 6 iterations\n",
      "Fri Feb 28 08:31:52 2025 Finished Nearest Neighbor Search\n",
      "Fri Feb 28 08:31:52 2025 Construct embedding\n"
     ]
    },
    {
     "name": "stderr",
     "output_type": "stream",
     "text": [
      "Epochs completed:   2%| ▏          4/200 [00:00]"
     ]
    },
    {
     "name": "stdout",
     "output_type": "stream",
     "text": [
      "\tcompleted  0  /  200 epochs\n"
     ]
    },
    {
     "name": "stderr",
     "output_type": "stream",
     "text": [
      "Epochs completed:  12%| █▏         23/200 [00:01]"
     ]
    },
    {
     "name": "stdout",
     "output_type": "stream",
     "text": [
      "\tcompleted  20  /  200 epochs\n"
     ]
    },
    {
     "name": "stderr",
     "output_type": "stream",
     "text": [
      "Epochs completed:  21%| ██         42/200 [00:04]"
     ]
    },
    {
     "name": "stdout",
     "output_type": "stream",
     "text": [
      "\tcompleted  40  /  200 epochs\n"
     ]
    },
    {
     "name": "stderr",
     "output_type": "stream",
     "text": [
      "Epochs completed:  31%| ███        62/200 [00:06]"
     ]
    },
    {
     "name": "stdout",
     "output_type": "stream",
     "text": [
      "\tcompleted  60  /  200 epochs\n"
     ]
    },
    {
     "name": "stderr",
     "output_type": "stream",
     "text": [
      "Epochs completed:  42%| ████▏      83/200 [00:08]"
     ]
    },
    {
     "name": "stdout",
     "output_type": "stream",
     "text": [
      "\tcompleted  80  /  200 epochs\n"
     ]
    },
    {
     "name": "stderr",
     "output_type": "stream",
     "text": [
      "Epochs completed:  52%| █████▎     105/200 [00:10]"
     ]
    },
    {
     "name": "stdout",
     "output_type": "stream",
     "text": [
      "\tcompleted  100  /  200 epochs\n"
     ]
    },
    {
     "name": "stderr",
     "output_type": "stream",
     "text": [
      "Epochs completed:  62%| ██████▏    123/200 [00:12]"
     ]
    },
    {
     "name": "stdout",
     "output_type": "stream",
     "text": [
      "\tcompleted  120  /  200 epochs\n"
     ]
    },
    {
     "name": "stderr",
     "output_type": "stream",
     "text": [
      "Epochs completed:  72%| ███████▏   143/200 [00:14]"
     ]
    },
    {
     "name": "stdout",
     "output_type": "stream",
     "text": [
      "\tcompleted  140  /  200 epochs\n"
     ]
    },
    {
     "name": "stderr",
     "output_type": "stream",
     "text": [
      "Epochs completed:  82%| ████████▎  165/200 [00:16]"
     ]
    },
    {
     "name": "stdout",
     "output_type": "stream",
     "text": [
      "\tcompleted  160  /  200 epochs\n"
     ]
    },
    {
     "name": "stderr",
     "output_type": "stream",
     "text": [
      "Epochs completed:  92%| █████████▏ 183/200 [00:18]"
     ]
    },
    {
     "name": "stdout",
     "output_type": "stream",
     "text": [
      "\tcompleted  180  /  200 epochs\n"
     ]
    },
    {
     "name": "stderr",
     "output_type": "stream",
     "text": [
      "Epochs completed: 100%| ██████████ 200/200 [00:19]\n"
     ]
    },
    {
     "name": "stdout",
     "output_type": "stream",
     "text": [
      "Fri Feb 28 08:32:18 2025 Finished embedding\n"
     ]
    },
    {
     "ename": "ValueError",
     "evalue": "Length of values (76822) does not match length of index (71881)",
     "output_type": "error",
     "traceback": [
      "\u001b[0;31m---------------------------------------------------------------------------\u001b[0m",
      "\u001b[0;31mValueError\u001b[0m                                Traceback (most recent call last)",
      "Cell \u001b[0;32mIn[7], line 15\u001b[0m\n\u001b[1;32m     12\u001b[0m umap_reducer \u001b[38;5;241m=\u001b[39m umap\u001b[38;5;241m.\u001b[39mUMAP(n_components\u001b[38;5;241m=\u001b[39m\u001b[38;5;241m2\u001b[39m, random_state\u001b[38;5;241m=\u001b[39m\u001b[38;5;241m42\u001b[39m, verbose\u001b[38;5;241m=\u001b[39m\u001b[38;5;28;01mTrue\u001b[39;00m)\n\u001b[1;32m     13\u001b[0m umap_embeddings \u001b[38;5;241m=\u001b[39m umap_reducer\u001b[38;5;241m.\u001b[39mfit_transform(embedding_matrix)\n\u001b[0;32m---> 15\u001b[0m df[\u001b[38;5;124m\"\u001b[39m\u001b[38;5;124mUMAP_0\u001b[39m\u001b[38;5;124m\"\u001b[39m], df[\u001b[38;5;124m\"\u001b[39m\u001b[38;5;124mUMAP_1\u001b[39m\u001b[38;5;124m\"\u001b[39m] \u001b[38;5;241m=\u001b[39m umap_embeddings[:, \u001b[38;5;241m0\u001b[39m], umap_embeddings[:, \u001b[38;5;241m1\u001b[39m]\n\u001b[1;32m     16\u001b[0m logging\u001b[38;5;241m.\u001b[39minfo(\u001b[38;5;124m\"\u001b[39m\u001b[38;5;124mUMAP projection completed.\u001b[39m\u001b[38;5;124m\"\u001b[39m)\n\u001b[1;32m     18\u001b[0m \u001b[38;5;66;03m# Compute Mahalanobis Distance for Malicious (1) prompts only\u001b[39;00m\n",
      "File \u001b[0;32m~/miniconda3/envs/malicious_prompt_env/lib/python3.9/site-packages/pandas/core/frame.py:4311\u001b[0m, in \u001b[0;36mDataFrame.__setitem__\u001b[0;34m(self, key, value)\u001b[0m\n\u001b[1;32m   4308\u001b[0m     \u001b[38;5;28mself\u001b[39m\u001b[38;5;241m.\u001b[39m_setitem_array([key], value)\n\u001b[1;32m   4309\u001b[0m \u001b[38;5;28;01melse\u001b[39;00m:\n\u001b[1;32m   4310\u001b[0m     \u001b[38;5;66;03m# set column\u001b[39;00m\n\u001b[0;32m-> 4311\u001b[0m     \u001b[38;5;28;43mself\u001b[39;49m\u001b[38;5;241;43m.\u001b[39;49m\u001b[43m_set_item\u001b[49m\u001b[43m(\u001b[49m\u001b[43mkey\u001b[49m\u001b[43m,\u001b[49m\u001b[43m \u001b[49m\u001b[43mvalue\u001b[49m\u001b[43m)\u001b[49m\n",
      "File \u001b[0;32m~/miniconda3/envs/malicious_prompt_env/lib/python3.9/site-packages/pandas/core/frame.py:4524\u001b[0m, in \u001b[0;36mDataFrame._set_item\u001b[0;34m(self, key, value)\u001b[0m\n\u001b[1;32m   4514\u001b[0m \u001b[38;5;28;01mdef\u001b[39;00m\u001b[38;5;250m \u001b[39m\u001b[38;5;21m_set_item\u001b[39m(\u001b[38;5;28mself\u001b[39m, key, value) \u001b[38;5;241m-\u001b[39m\u001b[38;5;241m>\u001b[39m \u001b[38;5;28;01mNone\u001b[39;00m:\n\u001b[1;32m   4515\u001b[0m \u001b[38;5;250m    \u001b[39m\u001b[38;5;124;03m\"\"\"\u001b[39;00m\n\u001b[1;32m   4516\u001b[0m \u001b[38;5;124;03m    Add series to DataFrame in specified column.\u001b[39;00m\n\u001b[1;32m   4517\u001b[0m \n\u001b[0;32m   (...)\u001b[0m\n\u001b[1;32m   4522\u001b[0m \u001b[38;5;124;03m    ensure homogeneity.\u001b[39;00m\n\u001b[1;32m   4523\u001b[0m \u001b[38;5;124;03m    \"\"\"\u001b[39;00m\n\u001b[0;32m-> 4524\u001b[0m     value, refs \u001b[38;5;241m=\u001b[39m \u001b[38;5;28;43mself\u001b[39;49m\u001b[38;5;241;43m.\u001b[39;49m\u001b[43m_sanitize_column\u001b[49m\u001b[43m(\u001b[49m\u001b[43mvalue\u001b[49m\u001b[43m)\u001b[49m\n\u001b[1;32m   4526\u001b[0m     \u001b[38;5;28;01mif\u001b[39;00m (\n\u001b[1;32m   4527\u001b[0m         key \u001b[38;5;129;01min\u001b[39;00m \u001b[38;5;28mself\u001b[39m\u001b[38;5;241m.\u001b[39mcolumns\n\u001b[1;32m   4528\u001b[0m         \u001b[38;5;129;01mand\u001b[39;00m value\u001b[38;5;241m.\u001b[39mndim \u001b[38;5;241m==\u001b[39m \u001b[38;5;241m1\u001b[39m\n\u001b[1;32m   4529\u001b[0m         \u001b[38;5;129;01mand\u001b[39;00m \u001b[38;5;129;01mnot\u001b[39;00m \u001b[38;5;28misinstance\u001b[39m(value\u001b[38;5;241m.\u001b[39mdtype, ExtensionDtype)\n\u001b[1;32m   4530\u001b[0m     ):\n\u001b[1;32m   4531\u001b[0m         \u001b[38;5;66;03m# broadcast across multiple columns if necessary\u001b[39;00m\n\u001b[1;32m   4532\u001b[0m         \u001b[38;5;28;01mif\u001b[39;00m \u001b[38;5;129;01mnot\u001b[39;00m \u001b[38;5;28mself\u001b[39m\u001b[38;5;241m.\u001b[39mcolumns\u001b[38;5;241m.\u001b[39mis_unique \u001b[38;5;129;01mor\u001b[39;00m \u001b[38;5;28misinstance\u001b[39m(\u001b[38;5;28mself\u001b[39m\u001b[38;5;241m.\u001b[39mcolumns, MultiIndex):\n",
      "File \u001b[0;32m~/miniconda3/envs/malicious_prompt_env/lib/python3.9/site-packages/pandas/core/frame.py:5266\u001b[0m, in \u001b[0;36mDataFrame._sanitize_column\u001b[0;34m(self, value)\u001b[0m\n\u001b[1;32m   5263\u001b[0m     \u001b[38;5;28;01mreturn\u001b[39;00m _reindex_for_setitem(value, \u001b[38;5;28mself\u001b[39m\u001b[38;5;241m.\u001b[39mindex)\n\u001b[1;32m   5265\u001b[0m \u001b[38;5;28;01mif\u001b[39;00m is_list_like(value):\n\u001b[0;32m-> 5266\u001b[0m     \u001b[43mcom\u001b[49m\u001b[38;5;241;43m.\u001b[39;49m\u001b[43mrequire_length_match\u001b[49m\u001b[43m(\u001b[49m\u001b[43mvalue\u001b[49m\u001b[43m,\u001b[49m\u001b[43m \u001b[49m\u001b[38;5;28;43mself\u001b[39;49m\u001b[38;5;241;43m.\u001b[39;49m\u001b[43mindex\u001b[49m\u001b[43m)\u001b[49m\n\u001b[1;32m   5267\u001b[0m arr \u001b[38;5;241m=\u001b[39m sanitize_array(value, \u001b[38;5;28mself\u001b[39m\u001b[38;5;241m.\u001b[39mindex, copy\u001b[38;5;241m=\u001b[39m\u001b[38;5;28;01mTrue\u001b[39;00m, allow_2d\u001b[38;5;241m=\u001b[39m\u001b[38;5;28;01mTrue\u001b[39;00m)\n\u001b[1;32m   5268\u001b[0m \u001b[38;5;28;01mif\u001b[39;00m (\n\u001b[1;32m   5269\u001b[0m     \u001b[38;5;28misinstance\u001b[39m(value, Index)\n\u001b[1;32m   5270\u001b[0m     \u001b[38;5;129;01mand\u001b[39;00m value\u001b[38;5;241m.\u001b[39mdtype \u001b[38;5;241m==\u001b[39m \u001b[38;5;124m\"\u001b[39m\u001b[38;5;124mobject\u001b[39m\u001b[38;5;124m\"\u001b[39m\n\u001b[0;32m   (...)\u001b[0m\n\u001b[1;32m   5273\u001b[0m     \u001b[38;5;66;03m# TODO: Remove kludge in sanitize_array for string mode when enforcing\u001b[39;00m\n\u001b[1;32m   5274\u001b[0m     \u001b[38;5;66;03m# this deprecation\u001b[39;00m\n",
      "File \u001b[0;32m~/miniconda3/envs/malicious_prompt_env/lib/python3.9/site-packages/pandas/core/common.py:573\u001b[0m, in \u001b[0;36mrequire_length_match\u001b[0;34m(data, index)\u001b[0m\n\u001b[1;32m    569\u001b[0m \u001b[38;5;250m\u001b[39m\u001b[38;5;124;03m\"\"\"\u001b[39;00m\n\u001b[1;32m    570\u001b[0m \u001b[38;5;124;03mCheck the length of data matches the length of the index.\u001b[39;00m\n\u001b[1;32m    571\u001b[0m \u001b[38;5;124;03m\"\"\"\u001b[39;00m\n\u001b[1;32m    572\u001b[0m \u001b[38;5;28;01mif\u001b[39;00m \u001b[38;5;28mlen\u001b[39m(data) \u001b[38;5;241m!=\u001b[39m \u001b[38;5;28mlen\u001b[39m(index):\n\u001b[0;32m--> 573\u001b[0m     \u001b[38;5;28;01mraise\u001b[39;00m \u001b[38;5;167;01mValueError\u001b[39;00m(\n\u001b[1;32m    574\u001b[0m         \u001b[38;5;124m\"\u001b[39m\u001b[38;5;124mLength of values \u001b[39m\u001b[38;5;124m\"\u001b[39m\n\u001b[1;32m    575\u001b[0m         \u001b[38;5;124mf\u001b[39m\u001b[38;5;124m\"\u001b[39m\u001b[38;5;124m(\u001b[39m\u001b[38;5;132;01m{\u001b[39;00m\u001b[38;5;28mlen\u001b[39m(data)\u001b[38;5;132;01m}\u001b[39;00m\u001b[38;5;124m) \u001b[39m\u001b[38;5;124m\"\u001b[39m\n\u001b[1;32m    576\u001b[0m         \u001b[38;5;124m\"\u001b[39m\u001b[38;5;124mdoes not match length of index \u001b[39m\u001b[38;5;124m\"\u001b[39m\n\u001b[1;32m    577\u001b[0m         \u001b[38;5;124mf\u001b[39m\u001b[38;5;124m\"\u001b[39m\u001b[38;5;124m(\u001b[39m\u001b[38;5;132;01m{\u001b[39;00m\u001b[38;5;28mlen\u001b[39m(index)\u001b[38;5;132;01m}\u001b[39;00m\u001b[38;5;124m)\u001b[39m\u001b[38;5;124m\"\u001b[39m\n\u001b[1;32m    578\u001b[0m     )\n",
      "\u001b[0;31mValueError\u001b[0m: Length of values (76822) does not match length of index (71881)"
     ]
    }
   ],
   "source": [
    "# # Load saved embeddings\n",
    "# embedding_matrix = np.load(output_embedding_path)\n",
    "# df = pd.read_csv(output_df_path)\n",
    "\n",
    "# # Standardize embeddings before UMAP projection\n",
    "# logging.info(\"Standardizing embeddings before UMAP projection...\")\n",
    "# scaler = StandardScaler()\n",
    "# embedding_matrix = scaler.fit_transform(embedding_matrix)\n",
    "\n",
    "# # Apply UMAP Projection (Reducing embeddings to 2D for visualization)\n",
    "# logging.info(\"Applying UMAP projection...\")\n",
    "# umap_reducer = umap.UMAP(n_components=2, random_state=42, verbose=True)\n",
    "# umap_embeddings = umap_reducer.fit_transform(embedding_matrix)\n",
    "\n",
    "# df[\"UMAP_0\"], df[\"UMAP_1\"] = umap_embeddings[:, 0], umap_embeddings[:, 1]\n",
    "# logging.info(\"UMAP projection completed.\")\n",
    "\n",
    "# # Compute Mahalanobis Distance for Malicious (1) prompts only\n",
    "# def compute_mahalanobis(df):\n",
    "#     subset = df[(df[\"Malicious (0/1)\"] == 1) & (df[\"Source\"] == \"Human\")]\n",
    "\n",
    "#     if len(subset) < 2:\n",
    "#         logging.warning(\"Skipping Mahalanobis distance due to insufficient samples.\")\n",
    "#         return np.nan\n",
    "    \n",
    "#     human_embeddings = np.stack(subset[[\"UMAP_0\", \"UMAP_1\"]].values)\n",
    "#     cov = EmpiricalCovariance().fit(human_embeddings)\n",
    "#     centroid = np.mean(human_embeddings, axis=0)\n",
    "    \n",
    "#     synthetic_subset = df[(df[\"Malicious (0/1)\"] == 1) & (df[\"Source\"] == \"Generated\")]\n",
    "#     distances = []\n",
    "#     for _, row in synthetic_subset.iterrows():\n",
    "#         dist = mahalanobis(row[[\"UMAP_0\", \"UMAP_1\"]].values, centroid, cov.precision_)\n",
    "#         distances.append(dist)\n",
    "\n",
    "#     return distances if distances else None\n",
    "\n",
    "# logging.info(\"Computing Mahalanobis distances for malicious prompts...\")\n",
    "# df[\"Mahalanobis Distance\"] = np.nan\n",
    "\n",
    "# dists = compute_mahalanobis(df)\n",
    "# if dists is not None:\n",
    "#     df.loc[(df[\"Malicious (0/1)\"] == 1) & (df[\"Source\"] == \"Generated\"), \"Mahalanobis Distance\"] = dists\n",
    "\n",
    "# logging.info(\"Mahalanobis distance computation completed.\")\n"
   ]
  },
  {
   "cell_type": "code",
   "execution_count": null,
   "metadata": {},
   "outputs": [],
   "source": [
    "# def compute_embeddings(prompts):\n",
    "#     with torch.no_grad():\n",
    "#         emb = model.encode(prompts, convert_to_tensor=True, device=device, show_progress_bar=False).cpu().numpy()\n",
    "#         return emb\n",
    "\n",
    "# logging.info(\"Computing embeddings for all prompts...\")\n",
    "# df[\"Embeddings\"] = df[\"Prompt\"].apply(lambda x: compute_embeddings([x])[0])\n",
    "# logging.info(f\"Embeddings computed. Shape: {df['Embeddings'][0].shape}\")\n",
    "\n",
    "# # Standardize embeddings before UMAP projection\n",
    "# logging.info(\"Standardizing embeddings before UMAP projection...\")\n",
    "# scaler = StandardScaler()\n",
    "# embedding_matrix = np.stack(df[\"Embeddings\"].values)\n",
    "# embedding_matrix = scaler.fit_transform(embedding_matrix)  # Normalize embeddings\n",
    "\n",
    "# # Apply UMAP Projection (Reducing embeddings to 2D for visualization)\n",
    "# logging.info(\"Applying UMAP projection...\")\n",
    "# umap_reducer = umap.UMAP(n_components=2, random_state=42, verbose=True)\n",
    "# umap_embeddings = umap_reducer.fit_transform(embedding_matrix)\n",
    "# df[\"UMAP_0\"], df[\"UMAP_1\"] = umap_embeddings[:, 0], umap_embeddings[:, 1]\n",
    "# logging.info(\"UMAP projection completed.\")\n",
    "\n",
    "# # Debug: Check UMAP output\n",
    "# logging.info(f\"UMAP embeddings min/max: X=({df['UMAP_0'].min()}, {df['UMAP_0'].max()}), \"\n",
    "#              f\"Y=({df['UMAP_1'].min()}, {df['UMAP_1'].max()})\")\n",
    "\n",
    "# # Compute Mahalanobis Distance\n",
    "# def compute_mahalanobis(df, department, malicious_label):\n",
    "#     subset = df[(df[\"Department\"] == department) & (df[\"Malicious (0/1)\"] == malicious_label) & (df[\"Source\"] == \"Human\")]\n",
    "\n",
    "#     if len(subset) < 2:\n",
    "#         logging.warning(f\"Skipping Mahalanobis distance for {department}, {malicious_label} due to insufficient samples.\")\n",
    "#         return np.nan\n",
    "    \n",
    "#     human_embeddings = np.stack(subset[[\"UMAP_0\", \"UMAP_1\"]].values)\n",
    "#     cov = EmpiricalCovariance().fit(human_embeddings)\n",
    "#     centroid = np.mean(human_embeddings, axis=0)\n",
    "    \n",
    "#     synthetic_subset = df[(df[\"Department\"] == department) & (df[\"Malicious (0/1)\"] == malicious_label) & (df[\"Source\"] == \"Generated\")]\n",
    "#     distances = []\n",
    "#     for _, row in synthetic_subset.iterrows():\n",
    "#         dist = mahalanobis(row[[\"UMAP_0\", \"UMAP_1\"]].values, centroid, cov.precision_)\n",
    "#         distances.append(dist)\n",
    "\n",
    "#     return distances if distances else None\n",
    "\n",
    "# logging.info(\"Computing Mahalanobis distances...\")\n",
    "# df[\"Mahalanobis Distance\"] = np.nan\n",
    "# departments = df[\"Department\"].unique()\n",
    "# malicious_labels = df[\"Malicious (0/1)\"].unique()\n",
    "\n",
    "# for dept in departments:\n",
    "#     for label in malicious_labels:\n",
    "#         dists = compute_mahalanobis(df, dept, label)\n",
    "#         if dists is not None:\n",
    "#             df.loc[(df[\"Department\"] == dept) & (df[\"Malicious (0/1)\"] == label) & (df[\"Source\"] == \"Generated\"), \"Mahalanobis Distance\"] = dists\n",
    "\n",
    "# logging.info(\"Mahalanobis distance computation completed.\")"
   ]
  },
  {
   "cell_type": "code",
   "execution_count": null,
   "metadata": {},
   "outputs": [
    {
     "name": "stderr",
     "output_type": "stream",
     "text": [
      "2025-02-28 07:36:00,245 - INFO - Computing similarity scores...\n",
      "2025-02-28 07:36:00,246 - INFO - Similarity score computation completed.\n",
      "2025-02-28 07:36:00,247 - INFO - Displaying sample similarity scores...\n"
     ]
    },
    {
     "data": {
      "text/html": [
       "<div>\n",
       "<style scoped>\n",
       "    .dataframe tbody tr th:only-of-type {\n",
       "        vertical-align: middle;\n",
       "    }\n",
       "\n",
       "    .dataframe tbody tr th {\n",
       "        vertical-align: top;\n",
       "    }\n",
       "\n",
       "    .dataframe thead th {\n",
       "        text-align: right;\n",
       "    }\n",
       "</style>\n",
       "<table border=\"1\" class=\"dataframe\">\n",
       "  <thead>\n",
       "    <tr style=\"text-align: right;\">\n",
       "      <th></th>\n",
       "      <th>Prompt</th>\n",
       "      <th>Department</th>\n",
       "      <th>Malicious (0/1)</th>\n",
       "      <th>Similarity Score</th>\n",
       "    </tr>\n",
       "  </thead>\n",
       "  <tbody>\n",
       "    <tr>\n",
       "      <th>51400</th>\n",
       "      <td>How can I learn more about the resolution of a...</td>\n",
       "      <td>Government Relations</td>\n",
       "      <td>1</td>\n",
       "      <td>0.0</td>\n",
       "    </tr>\n",
       "    <tr>\n",
       "      <th>53644</th>\n",
       "      <td>I am a candidate for promotion and would like ...</td>\n",
       "      <td>HR</td>\n",
       "      <td>1</td>\n",
       "      <td>0.0</td>\n",
       "    </tr>\n",
       "    <tr>\n",
       "      <th>21336</th>\n",
       "      <td>How do I secure our industrial control systems...</td>\n",
       "      <td>NaN</td>\n",
       "      <td>0</td>\n",
       "      <td>0.0</td>\n",
       "    </tr>\n",
       "    <tr>\n",
       "      <th>3218</th>\n",
       "      <td>How can I learn about federal security clearan...</td>\n",
       "      <td>NaN</td>\n",
       "      <td>0</td>\n",
       "      <td>0.0</td>\n",
       "    </tr>\n",
       "    <tr>\n",
       "      <th>32923</th>\n",
       "      <td>During my research of corporate surveillance, ...</td>\n",
       "      <td>Security</td>\n",
       "      <td>1</td>\n",
       "      <td>0.0</td>\n",
       "    </tr>\n",
       "    <tr>\n",
       "      <th>31676</th>\n",
       "      <td>What are the security standards that should be...</td>\n",
       "      <td>NaN</td>\n",
       "      <td>0</td>\n",
       "      <td>0.0</td>\n",
       "    </tr>\n",
       "    <tr>\n",
       "      <th>72567</th>\n",
       "      <td>Can you please tell me what steps a company wo...</td>\n",
       "      <td>Safety</td>\n",
       "      <td>1</td>\n",
       "      <td>0.0</td>\n",
       "    </tr>\n",
       "    <tr>\n",
       "      <th>68721</th>\n",
       "      <td>I would like to perform an investigation into ...</td>\n",
       "      <td>Legal</td>\n",
       "      <td>1</td>\n",
       "      <td>0.0</td>\n",
       "    </tr>\n",
       "    <tr>\n",
       "      <th>31406</th>\n",
       "      <td>What should I do if I want to meet with politi...</td>\n",
       "      <td>Ethics and Compliance</td>\n",
       "      <td>1</td>\n",
       "      <td>0.0</td>\n",
       "    </tr>\n",
       "    <tr>\n",
       "      <th>40246</th>\n",
       "      <td>What is the policy regarding a company policy ...</td>\n",
       "      <td>Legal</td>\n",
       "      <td>1</td>\n",
       "      <td>0.0</td>\n",
       "    </tr>\n",
       "  </tbody>\n",
       "</table>\n",
       "</div>"
      ],
      "text/plain": [
       "                                                  Prompt  \\\n",
       "51400  How can I learn more about the resolution of a...   \n",
       "53644  I am a candidate for promotion and would like ...   \n",
       "21336  How do I secure our industrial control systems...   \n",
       "3218   How can I learn about federal security clearan...   \n",
       "32923  During my research of corporate surveillance, ...   \n",
       "31676  What are the security standards that should be...   \n",
       "72567  Can you please tell me what steps a company wo...   \n",
       "68721  I would like to perform an investigation into ...   \n",
       "31406  What should I do if I want to meet with politi...   \n",
       "40246  What is the policy regarding a company policy ...   \n",
       "\n",
       "                  Department  Malicious (0/1)  Similarity Score  \n",
       "51400   Government Relations                1               0.0  \n",
       "53644                     HR                1               0.0  \n",
       "21336                    NaN                0               0.0  \n",
       "3218                     NaN                0               0.0  \n",
       "32923               Security                1               0.0  \n",
       "31676                    NaN                0               0.0  \n",
       "72567                 Safety                1               0.0  \n",
       "68721                  Legal                1               0.0  \n",
       "31406  Ethics and Compliance                1               0.0  \n",
       "40246                  Legal                1               0.0  "
      ]
     },
     "metadata": {},
     "output_type": "display_data"
    },
    {
     "ename": "ValueError",
     "evalue": "Unable to determine Axes to steal space for Colorbar. Either provide the *cax* argument to use as the Axes for the Colorbar, provide the *ax* argument to steal space from it, or add *mappable* to an Axes.",
     "output_type": "error",
     "traceback": [
      "\u001b[0;31m---------------------------------------------------------------------------\u001b[0m",
      "\u001b[0;31mValueError\u001b[0m                                Traceback (most recent call last)",
      "Cell \u001b[0;32mIn[5], line 21\u001b[0m\n\u001b[1;32m     19\u001b[0m sm \u001b[38;5;241m=\u001b[39m plt\u001b[38;5;241m.\u001b[39mcm\u001b[38;5;241m.\u001b[39mScalarMappable(cmap\u001b[38;5;241m=\u001b[39m\u001b[38;5;124m\"\u001b[39m\u001b[38;5;124mcoolwarm\u001b[39m\u001b[38;5;124m\"\u001b[39m, norm\u001b[38;5;241m=\u001b[39mnorm)\n\u001b[1;32m     20\u001b[0m sm\u001b[38;5;241m.\u001b[39mset_array([])\n\u001b[0;32m---> 21\u001b[0m cbar \u001b[38;5;241m=\u001b[39m \u001b[43mplt\u001b[49m\u001b[38;5;241;43m.\u001b[39;49m\u001b[43mcolorbar\u001b[49m\u001b[43m(\u001b[49m\u001b[43msm\u001b[49m\u001b[43m)\u001b[49m\n\u001b[1;32m     22\u001b[0m cbar\u001b[38;5;241m.\u001b[39mset_label(\u001b[38;5;124m\"\u001b[39m\u001b[38;5;124mSimilarity Score\u001b[39m\u001b[38;5;124m\"\u001b[39m)\n\u001b[1;32m     24\u001b[0m plt\u001b[38;5;241m.\u001b[39mshow()\n",
      "File \u001b[0;32m~/miniconda3/envs/malicious_prompt_env/lib/python3.9/site-packages/matplotlib/pyplot.py:2516\u001b[0m, in \u001b[0;36mcolorbar\u001b[0;34m(mappable, cax, ax, **kwargs)\u001b[0m\n\u001b[1;32m   2511\u001b[0m     \u001b[38;5;28;01mif\u001b[39;00m mappable \u001b[38;5;129;01mis\u001b[39;00m \u001b[38;5;28;01mNone\u001b[39;00m:\n\u001b[1;32m   2512\u001b[0m         \u001b[38;5;28;01mraise\u001b[39;00m \u001b[38;5;167;01mRuntimeError\u001b[39;00m(\u001b[38;5;124m'\u001b[39m\u001b[38;5;124mNo mappable was found to use for colorbar \u001b[39m\u001b[38;5;124m'\u001b[39m\n\u001b[1;32m   2513\u001b[0m                            \u001b[38;5;124m'\u001b[39m\u001b[38;5;124mcreation. First define a mappable such as \u001b[39m\u001b[38;5;124m'\u001b[39m\n\u001b[1;32m   2514\u001b[0m                            \u001b[38;5;124m'\u001b[39m\u001b[38;5;124man image (with imshow) or a contour set (\u001b[39m\u001b[38;5;124m'\u001b[39m\n\u001b[1;32m   2515\u001b[0m                            \u001b[38;5;124m'\u001b[39m\u001b[38;5;124mwith contourf).\u001b[39m\u001b[38;5;124m'\u001b[39m)\n\u001b[0;32m-> 2516\u001b[0m ret \u001b[38;5;241m=\u001b[39m \u001b[43mgcf\u001b[49m\u001b[43m(\u001b[49m\u001b[43m)\u001b[49m\u001b[38;5;241;43m.\u001b[39;49m\u001b[43mcolorbar\u001b[49m\u001b[43m(\u001b[49m\u001b[43mmappable\u001b[49m\u001b[43m,\u001b[49m\u001b[43m \u001b[49m\u001b[43mcax\u001b[49m\u001b[38;5;241;43m=\u001b[39;49m\u001b[43mcax\u001b[49m\u001b[43m,\u001b[49m\u001b[43m \u001b[49m\u001b[43max\u001b[49m\u001b[38;5;241;43m=\u001b[39;49m\u001b[43max\u001b[49m\u001b[43m,\u001b[49m\u001b[43m \u001b[49m\u001b[38;5;241;43m*\u001b[39;49m\u001b[38;5;241;43m*\u001b[39;49m\u001b[43mkwargs\u001b[49m\u001b[43m)\u001b[49m\n\u001b[1;32m   2517\u001b[0m \u001b[38;5;28;01mreturn\u001b[39;00m ret\n",
      "File \u001b[0;32m~/miniconda3/envs/malicious_prompt_env/lib/python3.9/site-packages/matplotlib/figure.py:1215\u001b[0m, in \u001b[0;36mFigureBase.colorbar\u001b[0;34m(self, mappable, cax, ax, use_gridspec, **kwargs)\u001b[0m\n\u001b[1;32m   1213\u001b[0m \u001b[38;5;28;01mif\u001b[39;00m cax \u001b[38;5;129;01mis\u001b[39;00m \u001b[38;5;28;01mNone\u001b[39;00m:\n\u001b[1;32m   1214\u001b[0m     \u001b[38;5;28;01mif\u001b[39;00m ax \u001b[38;5;129;01mis\u001b[39;00m \u001b[38;5;28;01mNone\u001b[39;00m:\n\u001b[0;32m-> 1215\u001b[0m         \u001b[38;5;28;01mraise\u001b[39;00m \u001b[38;5;167;01mValueError\u001b[39;00m(\n\u001b[1;32m   1216\u001b[0m             \u001b[38;5;124m'\u001b[39m\u001b[38;5;124mUnable to determine Axes to steal space for Colorbar. \u001b[39m\u001b[38;5;124m'\u001b[39m\n\u001b[1;32m   1217\u001b[0m             \u001b[38;5;124m'\u001b[39m\u001b[38;5;124mEither provide the *cax* argument to use as the Axes for \u001b[39m\u001b[38;5;124m'\u001b[39m\n\u001b[1;32m   1218\u001b[0m             \u001b[38;5;124m'\u001b[39m\u001b[38;5;124mthe Colorbar, provide the *ax* argument to steal space \u001b[39m\u001b[38;5;124m'\u001b[39m\n\u001b[1;32m   1219\u001b[0m             \u001b[38;5;124m'\u001b[39m\u001b[38;5;124mfrom it, or add *mappable* to an Axes.\u001b[39m\u001b[38;5;124m'\u001b[39m)\n\u001b[1;32m   1220\u001b[0m     fig \u001b[38;5;241m=\u001b[39m (  \u001b[38;5;66;03m# Figure of first Axes; logic copied from make_axes.\u001b[39;00m\n\u001b[1;32m   1221\u001b[0m         [\u001b[38;5;241m*\u001b[39max\u001b[38;5;241m.\u001b[39mflat] \u001b[38;5;28;01mif\u001b[39;00m \u001b[38;5;28misinstance\u001b[39m(ax, np\u001b[38;5;241m.\u001b[39mndarray)\n\u001b[1;32m   1222\u001b[0m         \u001b[38;5;28;01melse\u001b[39;00m [\u001b[38;5;241m*\u001b[39max] \u001b[38;5;28;01mif\u001b[39;00m np\u001b[38;5;241m.\u001b[39miterable(ax)\n\u001b[1;32m   1223\u001b[0m         \u001b[38;5;28;01melse\u001b[39;00m [ax])[\u001b[38;5;241m0\u001b[39m]\u001b[38;5;241m.\u001b[39mfigure\n\u001b[1;32m   1224\u001b[0m     current_ax \u001b[38;5;241m=\u001b[39m fig\u001b[38;5;241m.\u001b[39mgca()\n",
      "\u001b[0;31mValueError\u001b[0m: Unable to determine Axes to steal space for Colorbar. Either provide the *cax* argument to use as the Axes for the Colorbar, provide the *ax* argument to steal space from it, or add *mappable* to an Axes."
     ]
    },
    {
     "data": {
      "image/png": "[encoded data removed]",
      "text/plain": [
       "<Figure size 1000x600 with 1 Axes>"
      ]
     },
     "metadata": {},
     "output_type": "display_data"
    }
   ],
   "source": [
    "# logging.info(\"Computing similarity scores...\")\n",
    "# df[\"Mahalanobis Distance\"] = df[\"Mahalanobis Distance\"].fillna(df[\"Mahalanobis Distance\"].mean())\n",
    "# df[\"Similarity Score\"] = -zscore(df[\"Mahalanobis Distance\"])  # Use Z-score instead of min-max\n",
    "# df[\"Similarity Score\"] = df[\"Similarity Score\"].fillna(0)  # Replace NaNs with 0\n",
    "# logging.info(\"Similarity score computation completed.\")\n",
    "\n",
    "# # Debug: Check similarity score distribution\n",
    "# logging.info(f\"Similarity Score Range: Min={df['Similarity Score'].min()}, Max={df['Similarity Score'].max()}\")\n",
    "\n",
    "# # Visualize UMAP Projections\n",
    "# plt.figure(figsize=(10,6))\n",
    "# ax = plt.gca()  # Explicitly create an axis\n",
    "# scatter = sns.scatterplot(x=df[\"UMAP_0\"], y=df[\"UMAP_1\"], hue=df[\"Similarity Score\"], palette=\"coolwarm\", alpha=0.6, ax=ax)\n",
    "\n",
    "# plt.title(\"UMAP Projection of Prompts with Similarity Scores\")\n",
    "# plt.xlabel(\"UMAP Dimension 1\")\n",
    "# plt.ylabel(\"UMAP Dimension 2\")\n",
    "\n",
    "# # Fix colorbar\n",
    "# norm = plt.Normalize(df[\"Similarity Score\"].min(), df[\"Similarity Score\"].max())\n",
    "# sm = plt.cm.ScalarMappable(cmap=\"coolwarm\", norm=norm)\n",
    "# sm.set_array([])\n",
    "# cbar = plt.colorbar(sm, ax=ax)  # Explicitly attach colorbar to axis\n",
    "# cbar.set_label(\"Similarity Score\")\n",
    "\n",
    "# plt.show()\n",
    "# logging.info(\"Visualization completed.\")"
   ]
  },
  {
   "cell_type": "code",
   "execution_count": null,
   "metadata": {},
   "outputs": [],
   "source": [
    "# df.to_csv(output_path, index=False)\n",
    "# logging.info(\"Saved final dataset with similarity scores.\")"
   ]
  }
 ],
 "metadata": {
  "kernelspec": {
   "display_name": "malicious_prompt_env",
   "language": "python",
   "name": "python3"
  },
  "language_info": {
   "codemirror_mode": {
    "name": "ipython",
    "version": 3
   },
   "file_extension": ".py",
   "mimetype": "text/x-python",
   "name": "python",
   "nbconvert_exporter": "python",
   "pygments_lexer": "ipython3",
   "version": "3.9.21"
  }
 },
 "nbformat": 4,
 "nbformat_minor": 2
}
